{
  "nbformat": 4,
  "nbformat_minor": 0,
  "metadata": {
    "colab": {
      "provenance": [],
      "include_colab_link": true
    },
    "kernelspec": {
      "name": "python3",
      "display_name": "Python 3"
    },
    "language_info": {
      "name": "python"
    }
  },
  "cells": [
    {
      "cell_type": "markdown",
      "metadata": {
        "id": "view-in-github",
        "colab_type": "text"
      },
      "source": [
        "<a href=\"https://colab.research.google.com/github/Alby-Benny-IBM/PySpark/blob/main/03_Scala.ipynb\" target=\"_parent\"><img src=\"https://colab.research.google.com/assets/colab-badge.svg\" alt=\"Open In Colab\"/></a>"
      ]
    },
    {
      "cell_type": "code",
      "source": [
        "!ls /usr/lib/jvm/java-11-openjdk-amd64"
      ],
      "metadata": {
        "id": "bCfxbbjnabuS",
        "outputId": "baf038f7-745d-4465-ad65-563539183bf7",
        "colab": {
          "base_uri": "https://localhost:8080/"
        }
      },
      "execution_count": 8,
      "outputs": [
        {
          "output_type": "stream",
          "name": "stdout",
          "text": [
            "bin  conf  docs  include  jmods  legal\tlib  man  release\n"
          ]
        }
      ]
    },
    {
      "cell_type": "code",
      "source": [
        "!wget -q https://archive.apache.org/dist/spark/spark-3.4.1/spark-3.4.1-bin-hadoop3.tgz\n",
        "!tar xf spark-3.4.1-bin-hadoop3.tgz"
      ],
      "metadata": {
        "id": "Xdq1Tds7xAHW"
      },
      "execution_count": 9,
      "outputs": []
    },
    {
      "cell_type": "code",
      "source": [
        "!wget -q https://github.com/scala/scala/releases/download/v2.12.18/scala-2.12.18.deb"
      ],
      "metadata": {
        "id": "G-E6E5QIyZSe"
      },
      "execution_count": 10,
      "outputs": []
    },
    {
      "cell_type": "code",
      "source": [
        "!dpkg -i scala-2.12.18.deb"
      ],
      "metadata": {
        "id": "NXpBoTWyyjpY",
        "outputId": "850505ef-e169-48ed-b299-9ffde6c03cd0",
        "colab": {
          "base_uri": "https://localhost:8080/"
        }
      },
      "execution_count": 11,
      "outputs": [
        {
          "output_type": "stream",
          "name": "stdout",
          "text": [
            "Selecting previously unselected package scala.\n",
            "(Reading database ... 126284 files and directories currently installed.)\n",
            "Preparing to unpack scala-2.12.18.deb ...\n",
            "Unpacking scala (2.12.18-400) ...\n",
            "Setting up scala (2.12.18-400) ...\n",
            "Creating system group: scala\n",
            "Creating system user: scala in scala with scala daemon-user and shell /bin/false\n",
            "Processing triggers for man-db (2.10.2-1) ...\n"
          ]
        }
      ]
    },
    {
      "cell_type": "code",
      "source": [
        "import os"
      ],
      "metadata": {
        "id": "AIdq2JqYyqH4"
      },
      "execution_count": 12,
      "outputs": []
    },
    {
      "cell_type": "code",
      "source": [
        "# set environment variables\n",
        "os.environ[\"JAVA_HOME\"] = \"/usr/lib/jvm/java-11-openjdk-amd64\"\n",
        "os.environ[\"SPARK_HOME\"] = \"/content/spark-3.4.1-bin-hadoop3\""
      ],
      "metadata": {
        "id": "qqHBmUwSz4dw"
      },
      "execution_count": 15,
      "outputs": []
    },
    {
      "cell_type": "code",
      "source": [
        "!pip install -q findspark"
      ],
      "metadata": {
        "id": "qAda9mFd0L0X"
      },
      "execution_count": 17,
      "outputs": []
    },
    {
      "cell_type": "code",
      "source": [
        "import findspark\n",
        "findspark.init()\n",
        "\n",
        "from pyspark.sql import SparkSession\n",
        "\n",
        "spark = SparkSession.builder\\\n",
        "        .master(\"local\")\\\n",
        "        .appName(\"Colab\")\\\n",
        "        .getOrCreate()\n",
        "spark"
      ],
      "metadata": {
        "id": "x8PBLGfV1Fc8",
        "outputId": "6a533f21-ad79-4607-b6d9-ad4ddd4f7302",
        "colab": {
          "base_uri": "https://localhost:8080/",
          "height": 219
        }
      },
      "execution_count": 18,
      "outputs": [
        {
          "output_type": "execute_result",
          "data": {
            "text/plain": [
              "<pyspark.sql.session.SparkSession at 0x77ffd8609fd0>"
            ],
            "text/html": [
              "\n",
              "            <div>\n",
              "                <p><b>SparkSession - in-memory</b></p>\n",
              "                \n",
              "        <div>\n",
              "            <p><b>SparkContext</b></p>\n",
              "\n",
              "            <p><a href=\"http://b22a08a4a1b9:4041\">Spark UI</a></p>\n",
              "\n",
              "            <dl>\n",
              "              <dt>Version</dt>\n",
              "                <dd><code>v3.4.1</code></dd>\n",
              "              <dt>Master</dt>\n",
              "                <dd><code>local</code></dd>\n",
              "              <dt>AppName</dt>\n",
              "                <dd><code>Colab</code></dd>\n",
              "            </dl>\n",
              "        </div>\n",
              "        \n",
              "            </div>\n",
              "        "
            ]
          },
          "metadata": {},
          "execution_count": 18
        }
      ]
    },
    {
      "cell_type": "code",
      "source": [
        "%%writefile HelloWorld.scala\n",
        "object HelloWorld{\n",
        "  def main(args: Array[String]) = {\n",
        "    println(\"Hello from Scala\")\n",
        "  }\n",
        "}"
      ],
      "metadata": {
        "id": "W9fF4cmT1o2k",
        "outputId": "b3bf376b-6ac1-475d-9b80-712ddcc70bcd",
        "colab": {
          "base_uri": "https://localhost:8080/"
        }
      },
      "execution_count": 22,
      "outputs": [
        {
          "output_type": "stream",
          "name": "stdout",
          "text": [
            "Overwriting HelloWorld.scala\n"
          ]
        }
      ]
    },
    {
      "cell_type": "code",
      "source": [
        "!scala HelloWorld.scala"
      ],
      "metadata": {
        "id": "Y07qdrFW3dOV",
        "outputId": "6c1a2313-04c1-4a14-dc29-15380f5a62e4",
        "colab": {
          "base_uri": "https://localhost:8080/"
        }
      },
      "execution_count": 23,
      "outputs": [
        {
          "output_type": "stream",
          "name": "stdout",
          "text": [
            "Hello from Scala\n"
          ]
        }
      ]
    },
    {
      "cell_type": "code",
      "source": [
        "%%writefile BasicVariable.scala\n",
        "object BasicVariable{\n",
        "  def main(args: Array[String]) = {\n",
        "    val language: String = \"Scala\"\n",
        "    var version: Double =2.12\n",
        "    println(s\"Step1: Welcome to $language version $version\")\n",
        "  }\n",
        "}\n"
      ],
      "metadata": {
        "id": "ANrRFX6r4KNN",
        "outputId": "0fcb577d-af31-4976-996e-5541e2083e83",
        "colab": {
          "base_uri": "https://localhost:8080/"
        }
      },
      "execution_count": 25,
      "outputs": [
        {
          "output_type": "stream",
          "name": "stdout",
          "text": [
            "Writing BasicVariable.scala\n"
          ]
        }
      ]
    },
    {
      "cell_type": "code",
      "source": [
        "!scala BasicVariable.scala"
      ],
      "metadata": {
        "id": "6K8y8Qmi65--",
        "outputId": "6972bd86-1f83-42cf-c830-5e9a93180c6a",
        "colab": {
          "base_uri": "https://localhost:8080/"
        }
      },
      "execution_count": 27,
      "outputs": [
        {
          "output_type": "stream",
          "name": "stdout",
          "text": [
            "Step1: Welcome to Scala version 2.12\n"
          ]
        }
      ]
    },
    {
      "cell_type": "code",
      "source": [
        "%%writefile ControlStatement.scala\n",
        "object ControlStatement{\n",
        "  def main(args: Array[String]) = {\n",
        "    def checkNumber(n: Int): String = {\n",
        "      if(n>0) \"positive\"\n",
        "      else if(n<0) \"negative\"\n",
        "      else \"zero\"\n",
        "    }\n",
        "\n",
        "    println(\"Step2: Check Number:\")\n",
        "    println(checkNumber(-5))\n",
        "    println(checkNumber(5))\n",
        "    println(checkNumber(0))\n",
        "  }\n",
        "}"
      ],
      "metadata": {
        "id": "ME8ECG7N5WGe",
        "outputId": "e7dea7c1-6221-4350-db95-869d65c44335",
        "colab": {
          "base_uri": "https://localhost:8080/"
        }
      },
      "execution_count": 29,
      "outputs": [
        {
          "output_type": "stream",
          "name": "stdout",
          "text": [
            "Overwriting ControlStatement.scala\n"
          ]
        }
      ]
    },
    {
      "cell_type": "code",
      "source": [
        "!scala ControlStatement.scala"
      ],
      "metadata": {
        "id": "5W7igSwH65CI",
        "outputId": "055ad73d-ab35-4b29-d3e0-38889b83488c",
        "colab": {
          "base_uri": "https://localhost:8080/"
        }
      },
      "execution_count": 30,
      "outputs": [
        {
          "output_type": "stream",
          "name": "stdout",
          "text": [
            "Step2: Check Number:\n",
            "negative\n",
            "positive\n",
            "zero\n"
          ]
        }
      ]
    },
    {
      "cell_type": "code",
      "source": [],
      "metadata": {
        "id": "xDzFDIn46_Xr"
      },
      "execution_count": null,
      "outputs": []
    }
  ]
}