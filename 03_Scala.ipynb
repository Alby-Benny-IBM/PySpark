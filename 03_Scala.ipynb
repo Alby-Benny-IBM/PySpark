{
  "nbformat": 4,
  "nbformat_minor": 0,
  "metadata": {
    "colab": {
      "provenance": [],
      "include_colab_link": true
    },
    "kernelspec": {
      "name": "python3",
      "display_name": "Python 3"
    },
    "language_info": {
      "name": "python"
    }
  },
  "cells": [
    {
      "cell_type": "markdown",
      "metadata": {
        "id": "view-in-github",
        "colab_type": "text"
      },
      "source": [
        "<a href=\"https://colab.research.google.com/github/Alby-Benny-IBM/PySpark/blob/main/03_Scala.ipynb\" target=\"_parent\"><img src=\"https://colab.research.google.com/assets/colab-badge.svg\" alt=\"Open In Colab\"/></a>"
      ]
    },
    {
      "cell_type": "code",
      "source": [
        "!ls /usr/lib/jvm/java-11-openjdk-amd64"
      ],
      "metadata": {
        "id": "bCfxbbjnabuS",
        "colab": {
          "base_uri": "https://localhost:8080/"
        },
        "outputId": "b213116b-f44b-4386-9638-8b687de1225d"
      },
      "execution_count": 36,
      "outputs": [
        {
          "output_type": "stream",
          "name": "stdout",
          "text": [
            "bin  conf  docs  include  jmods  legal\tlib  man  release\n"
          ]
        }
      ]
    },
    {
      "cell_type": "code",
      "source": [
        "!wget -q https://archive.apache.org/dist/spark/spark-3.4.1/spark-3.4.1-bin-hadoop3.tgz\n",
        "!tar xf spark-3.4.1-bin-hadoop3.tgz"
      ],
      "metadata": {
        "id": "Xdq1Tds7xAHW"
      },
      "execution_count": 37,
      "outputs": []
    },
    {
      "cell_type": "code",
      "source": [
        "!wget -q https://github.com/scala/scala/releases/download/v2.12.18/scala-2.12.18.deb"
      ],
      "metadata": {
        "id": "G-E6E5QIyZSe"
      },
      "execution_count": 38,
      "outputs": []
    },
    {
      "cell_type": "code",
      "source": [
        "!dpkg -i scala-2.12.18.deb"
      ],
      "metadata": {
        "colab": {
          "base_uri": "https://localhost:8080/"
        },
        "id": "NXpBoTWyyjpY",
        "outputId": "3c8a4579-0067-41d8-eff8-c767d4660720"
      },
      "execution_count": 39,
      "outputs": [
        {
          "output_type": "stream",
          "name": "stdout",
          "text": [
            "(Reading database ... 130340 files and directories currently installed.)\n",
            "Preparing to unpack scala-2.12.18.deb ...\n",
            "Unpacking scala (2.12.18-400) over (2.12.18-400) ...\n",
            "Setting up scala (2.12.18-400) ...\n",
            "Processing triggers for man-db (2.10.2-1) ...\n"
          ]
        }
      ]
    },
    {
      "cell_type": "code",
      "source": [
        "import os"
      ],
      "metadata": {
        "id": "AIdq2JqYyqH4"
      },
      "execution_count": 40,
      "outputs": []
    },
    {
      "cell_type": "code",
      "source": [
        "# set environment variables\n",
        "os.environ[\"JAVA_HOME\"] = \"/usr/lib/jvm/java-11-openjdk-amd64\"\n",
        "os.environ[\"SPARK_HOME\"] = \"/content/spark-3.4.1-bin-hadoop3\""
      ],
      "metadata": {
        "id": "qqHBmUwSz4dw"
      },
      "execution_count": 41,
      "outputs": []
    },
    {
      "cell_type": "code",
      "source": [
        "!pip install -q findspark"
      ],
      "metadata": {
        "id": "qAda9mFd0L0X"
      },
      "execution_count": 42,
      "outputs": []
    },
    {
      "cell_type": "code",
      "source": [
        "import findspark\n",
        "findspark.init()\n",
        "\n",
        "from pyspark.sql import SparkSession\n",
        "\n",
        "spark = SparkSession.builder\\\n",
        "        .master(\"local\")\\\n",
        "        .appName(\"Colab\")\\\n",
        "        .getOrCreate()\n",
        "spark"
      ],
      "metadata": {
        "colab": {
          "base_uri": "https://localhost:8080/",
          "height": 219
        },
        "id": "x8PBLGfV1Fc8",
        "outputId": "8d48cc19-8acb-4c7a-e316-41aa642eefa8"
      },
      "execution_count": 43,
      "outputs": [
        {
          "output_type": "execute_result",
          "data": {
            "text/plain": [
              "<pyspark.sql.session.SparkSession at 0x77ffd8609fd0>"
            ],
            "text/html": [
              "\n",
              "            <div>\n",
              "                <p><b>SparkSession - in-memory</b></p>\n",
              "                \n",
              "        <div>\n",
              "            <p><b>SparkContext</b></p>\n",
              "\n",
              "            <p><a href=\"http://b22a08a4a1b9:4041\">Spark UI</a></p>\n",
              "\n",
              "            <dl>\n",
              "              <dt>Version</dt>\n",
              "                <dd><code>v3.4.1</code></dd>\n",
              "              <dt>Master</dt>\n",
              "                <dd><code>local</code></dd>\n",
              "              <dt>AppName</dt>\n",
              "                <dd><code>Colab</code></dd>\n",
              "            </dl>\n",
              "        </div>\n",
              "        \n",
              "            </div>\n",
              "        "
            ]
          },
          "metadata": {},
          "execution_count": 43
        }
      ]
    },
    {
      "cell_type": "code",
      "source": [
        "%%writefile HelloWorld.scala\n",
        "object HelloWorld{\n",
        "  def main(args: Array[String]) = {\n",
        "    println(\"Hello from Scala\")\n",
        "  }\n",
        "}"
      ],
      "metadata": {
        "colab": {
          "base_uri": "https://localhost:8080/"
        },
        "id": "W9fF4cmT1o2k",
        "outputId": "b3bf376b-6ac1-475d-9b80-712ddcc70bcd"
      },
      "execution_count": 22,
      "outputs": [
        {
          "output_type": "stream",
          "name": "stdout",
          "text": [
            "Overwriting HelloWorld.scala\n"
          ]
        }
      ]
    },
    {
      "cell_type": "code",
      "source": [
        "!scala HelloWorld.scala"
      ],
      "metadata": {
        "colab": {
          "base_uri": "https://localhost:8080/"
        },
        "id": "Y07qdrFW3dOV",
        "outputId": "6c1a2313-04c1-4a14-dc29-15380f5a62e4"
      },
      "execution_count": 23,
      "outputs": [
        {
          "output_type": "stream",
          "name": "stdout",
          "text": [
            "Hello from Scala\n"
          ]
        }
      ]
    },
    {
      "cell_type": "code",
      "source": [
        "%%writefile BasicVariable.scala\n",
        "object BasicVariable{\n",
        "  def main(args: Array[String]) = {\n",
        "    val language: String = \"Scala\"\n",
        "    var version: Double =2.12\n",
        "    println(s\"Step1: Welcome to $language version $version\")\n",
        "  }\n",
        "}\n"
      ],
      "metadata": {
        "colab": {
          "base_uri": "https://localhost:8080/"
        },
        "id": "ANrRFX6r4KNN",
        "outputId": "0fcb577d-af31-4976-996e-5541e2083e83"
      },
      "execution_count": 25,
      "outputs": [
        {
          "output_type": "stream",
          "name": "stdout",
          "text": [
            "Writing BasicVariable.scala\n"
          ]
        }
      ]
    },
    {
      "cell_type": "code",
      "source": [
        "!scala BasicVariable.scala"
      ],
      "metadata": {
        "colab": {
          "base_uri": "https://localhost:8080/"
        },
        "id": "6K8y8Qmi65--",
        "outputId": "6972bd86-1f83-42cf-c830-5e9a93180c6a"
      },
      "execution_count": 27,
      "outputs": [
        {
          "output_type": "stream",
          "name": "stdout",
          "text": [
            "Step1: Welcome to Scala version 2.12\n"
          ]
        }
      ]
    },
    {
      "cell_type": "code",
      "source": [
        "%%writefile ControlStatement.scala\n",
        "object ControlStatement{\n",
        "  def main(args: Array[String]) = {\n",
        "    def checkNumber(n: Int): String = {\n",
        "      if(n>0) \"positive\"\n",
        "      else if(n<0) \"negative\"\n",
        "      else \"zero\"\n",
        "    }\n",
        "\n",
        "    println(\"Step2: Check Number:\")\n",
        "    println(checkNumber(-5))\n",
        "    println(checkNumber(5))\n",
        "    println(checkNumber(0))\n",
        "  }\n",
        "}"
      ],
      "metadata": {
        "colab": {
          "base_uri": "https://localhost:8080/"
        },
        "id": "ME8ECG7N5WGe",
        "outputId": "e7dea7c1-6221-4350-db95-869d65c44335"
      },
      "execution_count": 29,
      "outputs": [
        {
          "output_type": "stream",
          "name": "stdout",
          "text": [
            "Overwriting ControlStatement.scala\n"
          ]
        }
      ]
    },
    {
      "cell_type": "code",
      "source": [
        "!scala ControlStatement.scala"
      ],
      "metadata": {
        "colab": {
          "base_uri": "https://localhost:8080/"
        },
        "id": "5W7igSwH65CI",
        "outputId": "055ad73d-ab35-4b29-d3e0-38889b83488c"
      },
      "execution_count": 30,
      "outputs": [
        {
          "output_type": "stream",
          "name": "stdout",
          "text": [
            "Step2: Check Number:\n",
            "negative\n",
            "positive\n",
            "zero\n"
          ]
        }
      ]
    },
    {
      "cell_type": "code",
      "source": [
        "%%writefile LoopDemo.scala\n",
        "object LoopDemo {\n",
        "  def main(args: Array[String]): Unit = {\n",
        "    println(\"Demo: While Loop\")\n",
        "    var i = 1\n",
        "    while (i <= 5) {\n",
        "      println(s\"While Loop iteration: $i\")\n",
        "      i += 1\n",
        "    }\n",
        "\n",
        "    println(\"\\nDemo: Do-While Loop\")\n",
        "    var j = 1\n",
        "    do {\n",
        "      println(s\"Do-While Loop iteration: $j\")\n",
        "      j += 1\n",
        "    } while (j <= 5)\n",
        "\n",
        "    println(\"\\nDemo: For Loop with Range\")\n",
        "    for (k <- 1 to 5) {\n",
        "      println(s\"For Loop iteration: $k\")\n",
        "    }\n",
        "\n",
        "    println(\"\\nDemo: For Loop with Guards (only even numbers)\")\n",
        "    for (k <- 1 to 10 if k % 2 == 0) {\n",
        "      println(s\"Even number: $k\")\n",
        "    }\n",
        "\n",
        "    println(\"\\nDemo: For Loop with yield (creates a collection)\")\n",
        "    val squares = for (k <- 1 to 5) yield k * k\n",
        "    println(s\"Squares from 1 to 5: ${squares.mkString(\", \")}\")\n",
        "  }\n",
        "}"
      ],
      "metadata": {
        "colab": {
          "base_uri": "https://localhost:8080/"
        },
        "id": "xDzFDIn46_Xr",
        "outputId": "735d2c07-f6ef-431b-91d3-9fe0efcb8fd8"
      },
      "execution_count": 31,
      "outputs": [
        {
          "output_type": "stream",
          "name": "stdout",
          "text": [
            "Writing LoopDemo.scala\n"
          ]
        }
      ]
    },
    {
      "cell_type": "code",
      "source": [
        "!scala LoopDemo.scala"
      ],
      "metadata": {
        "colab": {
          "base_uri": "https://localhost:8080/"
        },
        "id": "WMB2D6YPN0ZD",
        "outputId": "4a181a65-c837-4176-b937-ab8bac3650ce"
      },
      "execution_count": 32,
      "outputs": [
        {
          "output_type": "stream",
          "name": "stdout",
          "text": [
            "Demo: While Loop\n",
            "While Loop iteration: 1\n",
            "While Loop iteration: 2\n",
            "While Loop iteration: 3\n",
            "While Loop iteration: 4\n",
            "While Loop iteration: 5\n",
            "\n",
            "Demo: Do-While Loop\n",
            "Do-While Loop iteration: 1\n",
            "Do-While Loop iteration: 2\n",
            "Do-While Loop iteration: 3\n",
            "Do-While Loop iteration: 4\n",
            "Do-While Loop iteration: 5\n",
            "\n",
            "Demo: For Loop with Range\n",
            "For Loop iteration: 1\n",
            "For Loop iteration: 2\n",
            "For Loop iteration: 3\n",
            "For Loop iteration: 4\n",
            "For Loop iteration: 5\n",
            "\n",
            "Demo: For Loop with Guards (only even numbers)\n",
            "Even number: 2\n",
            "Even number: 4\n",
            "Even number: 6\n",
            "Even number: 8\n",
            "Even number: 10\n",
            "\n",
            "Demo: For Loop with yield (creates a collection)\n",
            "Squares from 1 to 5: 1, 4, 9, 16, 25\n"
          ]
        }
      ]
    },
    {
      "cell_type": "code",
      "source": [
        "from getpass import getpass\n",
        "\n",
        "# Set up once\n",
        "token = getpass(\"GitHub token:\")\n",
        "username = \"Alby-Benny-IBM\"\n",
        "repo = \"NubeEra-DataEngineering/IBM-DE-26Jun-11Sept\"\n",
        "email = \"Alby.Benny@ibm.com\"\n",
        "clone_url = f\"https://{token}@github.com/{repo}.git\"\n",
        "\n",
        "# Git config\n",
        "!git config --global user.name \"{username}\"\n",
        "!git config --global user.email \"{email}\"\n",
        "\n",
        "# Clean and clone\n",
        "!rm -rf {repo}\n",
        "!git clone {clone_url}\n",
        "%cd {repo}\n"
      ],
      "metadata": {
        "id": "rzm_G2PzT11g",
        "outputId": "f52a512c-155b-4665-dbe7-72a71e6c2fe5",
        "colab": {
          "base_uri": "https://localhost:8080/"
        }
      },
      "execution_count": 35,
      "outputs": [
        {
          "output_type": "stream",
          "name": "stdout",
          "text": [
            "GitHub token:··········\n",
            "Cloning into 'IBM-DE-26Jun-11Sept'...\n",
            "remote: Enumerating objects: 24679, done.\u001b[K\n",
            "remote: Counting objects: 100% (81/81), done.\u001b[K\n",
            "remote: Compressing objects: 100% (65/65), done.\u001b[K\n",
            "remote: Total 24679 (delta 25), reused 56 (delta 10), pack-reused 24598 (from 2)\u001b[K\n",
            "Receiving objects: 100% (24679/24679), 82.33 MiB | 20.22 MiB/s, done.\n",
            "Resolving deltas: 100% (19263/19263), done.\n",
            "[Errno 2] No such file or directory: 'NubeEra-DataEngineering/IBM-DE-26Jun-11Sept'\n",
            "/content\n"
          ]
        }
      ]
    },
    {
      "cell_type": "code",
      "source": [
        "%%writefile Person.scala\n",
        "class Person(name:String,age:Int){\n",
        "    println(s\"Name: $name, Age: $age\")\n",
        "\n",
        "    def this(name:String){\n",
        "        this(name,0)\n",
        "        println(s\"Name: $name, Age: 0\")\n",
        "    }\n",
        "    def this(){\n",
        "        this(\"Unknown\",0)\n",
        "        println(s\"Name: Unknown, Age: 0\")\n",
        "    }\n",
        "\n",
        "}\n",
        "val person1 = new Person(\"Alby\",25)\n",
        "val person2 = new Person(\"Benny\")\n",
        "val person3 = new Person()"
      ],
      "metadata": {
        "id": "lVnfCExYUNGb",
        "outputId": "aeb29b77-68ba-449c-83f9-09df0b9ae453",
        "colab": {
          "base_uri": "https://localhost:8080/"
        }
      },
      "execution_count": 47,
      "outputs": [
        {
          "output_type": "stream",
          "name": "stdout",
          "text": [
            "Overwriting Person.scala\n"
          ]
        }
      ]
    },
    {
      "cell_type": "code",
      "source": [
        "!scala Person.scala"
      ],
      "metadata": {
        "id": "HouY9s3dusoi",
        "outputId": "a9378815-5ca7-4467-c6f3-552969819b7d",
        "colab": {
          "base_uri": "https://localhost:8080/"
        }
      },
      "execution_count": 48,
      "outputs": [
        {
          "output_type": "stream",
          "name": "stdout",
          "text": [
            "Name: Alby, Age: 25\n",
            "Name: Benny, Age: 0\n",
            "Name: Benny, Age: 0\n",
            "Name: Unknown, Age: 0\n",
            "Name: Unknown, Age: 0\n"
          ]
        }
      ]
    },
    {
      "cell_type": "code",
      "source": [],
      "metadata": {
        "id": "0HTgRxN8uxub"
      },
      "execution_count": null,
      "outputs": []
    }
  ]
}