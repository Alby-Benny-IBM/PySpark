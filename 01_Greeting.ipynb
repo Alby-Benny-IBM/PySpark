{
  "nbformat": 4,
  "nbformat_minor": 0,
  "metadata": {
    "colab": {
      "provenance": [],
      "include_colab_link": true
    },
    "kernelspec": {
      "name": "python3",
      "display_name": "Python 3"
    },
    "language_info": {
      "name": "python"
    }
  },
  "cells": [
    {
      "cell_type": "markdown",
      "metadata": {
        "id": "view-in-github",
        "colab_type": "text"
      },
      "source": [
        "<a href=\"https://colab.research.google.com/github/Alby-Benny-IBM/PySpark/blob/main/01_Greeting.ipynb\" target=\"_parent\"><img src=\"https://colab.research.google.com/assets/colab-badge.svg\" alt=\"Open In Colab\"/></a>"
      ]
    },
    {
      "cell_type": "markdown",
      "source": [
        "# ***Linux Basic***"
      ],
      "metadata": {
        "id": "T6ctDXoGsBmO"
      }
    },
    {
      "cell_type": "code",
      "execution_count": 2,
      "metadata": {
        "colab": {
          "base_uri": "https://localhost:8080/"
        },
        "id": "fWl5VIkzaSvr",
        "outputId": "a411d1ba-3af4-4538-b353-94e8a60a8a59"
      },
      "outputs": [
        {
          "output_type": "stream",
          "name": "stdout",
          "text": [
            "PRETTY_NAME=\"Ubuntu 22.04.4 LTS\"\n",
            "NAME=\"Ubuntu\"\n",
            "VERSION_ID=\"22.04\"\n",
            "VERSION=\"22.04.4 LTS (Jammy Jellyfish)\"\n",
            "VERSION_CODENAME=jammy\n",
            "ID=ubuntu\n",
            "ID_LIKE=debian\n",
            "HOME_URL=\"https://www.ubuntu.com/\"\n",
            "SUPPORT_URL=\"https://help.ubuntu.com/\"\n",
            "BUG_REPORT_URL=\"https://bugs.launchpad.net/ubuntu/\"\n",
            "PRIVACY_POLICY_URL=\"https://www.ubuntu.com/legal/terms-and-policies/privacy-policy\"\n",
            "UBUNTU_CODENAME=jammy\n"
          ]
        }
      ],
      "source": [
        "!cat /etc/os-release"
      ]
    },
    {
      "cell_type": "code",
      "source": [
        "!uname"
      ],
      "metadata": {
        "id": "bCfxbbjnabuS",
        "outputId": "3ea4f254-59b3-4b84-9558-dd9cdb5b4b2a",
        "colab": {
          "base_uri": "https://localhost:8080/"
        }
      },
      "execution_count": 3,
      "outputs": [
        {
          "output_type": "stream",
          "name": "stdout",
          "text": [
            "Linux\n"
          ]
        }
      ]
    },
    {
      "cell_type": "code",
      "source": [
        "!pwd"
      ],
      "metadata": {
        "id": "AkoL8V56r-hH",
        "outputId": "9a0c5aa3-751f-45fb-97c7-bf4801b81151",
        "colab": {
          "base_uri": "https://localhost:8080/"
        }
      },
      "execution_count": 4,
      "outputs": [
        {
          "output_type": "stream",
          "name": "stdout",
          "text": [
            "/content\n"
          ]
        }
      ]
    },
    {
      "cell_type": "code",
      "source": [
        "!ls /"
      ],
      "metadata": {
        "id": "06d5XbpSr_mn",
        "outputId": "df846576-bc1d-47d0-a84d-509c8d4020f5",
        "colab": {
          "base_uri": "https://localhost:8080/"
        }
      },
      "execution_count": 5,
      "outputs": [
        {
          "output_type": "stream",
          "name": "stdout",
          "text": [
            "bin\t\t\t    kaggle\t\t      opt\t\t sys\n",
            "boot\t\t\t    lib\t\t\t      proc\t\t tmp\n",
            "content\t\t\t    lib32\t\t      python-apt\t tools\n",
            "cuda-keyring_1.1-1_all.deb  lib64\t\t      python-apt.tar.xz  usr\n",
            "datalab\t\t\t    libx32\t\t      root\t\t var\n",
            "dev\t\t\t    media\t\t      run\n",
            "etc\t\t\t    mnt\t\t\t      sbin\n",
            "home\t\t\t    NGC-DL-CONTAINER-LICENSE  srv\n"
          ]
        }
      ]
    },
    {
      "cell_type": "code",
      "source": [],
      "metadata": {
        "id": "f8sZ2HJTsA-g"
      },
      "execution_count": null,
      "outputs": []
    }
  ]
}