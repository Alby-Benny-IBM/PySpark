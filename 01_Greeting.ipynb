{
  "nbformat": 4,
  "nbformat_minor": 0,
  "metadata": {
    "colab": {
      "provenance": [],
      "include_colab_link": true
    },
    "kernelspec": {
      "name": "python3",
      "display_name": "Python 3"
    },
    "language_info": {
      "name": "python"
    }
  },
  "cells": [
    {
      "cell_type": "markdown",
      "metadata": {
        "id": "view-in-github",
        "colab_type": "text"
      },
      "source": [
        "<a href=\"https://colab.research.google.com/github/Alby-Benny-IBM/PySpark/blob/main/01_Greeting.ipynb\" target=\"_parent\"><img src=\"https://colab.research.google.com/assets/colab-badge.svg\" alt=\"Open In Colab\"/></a>"
      ]
    },
    {
      "cell_type": "markdown",
      "source": [
        "# ***Linux Basic***"
      ],
      "metadata": {
        "id": "T6ctDXoGsBmO"
      }
    },
    {
      "cell_type": "code",
      "execution_count": null,
      "metadata": {
        "colab": {
          "base_uri": "https://localhost:8080/"
        },
        "id": "fWl5VIkzaSvr",
        "outputId": "a411d1ba-3af4-4538-b353-94e8a60a8a59"
      },
      "outputs": [
        {
          "output_type": "stream",
          "name": "stdout",
          "text": [
            "PRETTY_NAME=\"Ubuntu 22.04.4 LTS\"\n",
            "NAME=\"Ubuntu\"\n",
            "VERSION_ID=\"22.04\"\n",
            "VERSION=\"22.04.4 LTS (Jammy Jellyfish)\"\n",
            "VERSION_CODENAME=jammy\n",
            "ID=ubuntu\n",
            "ID_LIKE=debian\n",
            "HOME_URL=\"https://www.ubuntu.com/\"\n",
            "SUPPORT_URL=\"https://help.ubuntu.com/\"\n",
            "BUG_REPORT_URL=\"https://bugs.launchpad.net/ubuntu/\"\n",
            "PRIVACY_POLICY_URL=\"https://www.ubuntu.com/legal/terms-and-policies/privacy-policy\"\n",
            "UBUNTU_CODENAME=jammy\n"
          ]
        }
      ],
      "source": [
        "!cat /etc/os-release"
      ]
    },
    {
      "cell_type": "code",
      "source": [
        "!uname"
      ],
      "metadata": {
        "id": "bCfxbbjnabuS",
        "colab": {
          "base_uri": "https://localhost:8080/"
        },
        "outputId": "3ea4f254-59b3-4b84-9558-dd9cdb5b4b2a"
      },
      "execution_count": null,
      "outputs": [
        {
          "output_type": "stream",
          "name": "stdout",
          "text": [
            "Linux\n"
          ]
        }
      ]
    },
    {
      "cell_type": "code",
      "source": [
        "!pwd"
      ],
      "metadata": {
        "colab": {
          "base_uri": "https://localhost:8080/"
        },
        "id": "AkoL8V56r-hH",
        "outputId": "9a0c5aa3-751f-45fb-97c7-bf4801b81151"
      },
      "execution_count": null,
      "outputs": [
        {
          "output_type": "stream",
          "name": "stdout",
          "text": [
            "/content\n"
          ]
        }
      ]
    },
    {
      "cell_type": "code",
      "source": [
        "!ls /"
      ],
      "metadata": {
        "colab": {
          "base_uri": "https://localhost:8080/"
        },
        "id": "06d5XbpSr_mn",
        "outputId": "df846576-bc1d-47d0-a84d-509c8d4020f5"
      },
      "execution_count": null,
      "outputs": [
        {
          "output_type": "stream",
          "name": "stdout",
          "text": [
            "bin\t\t\t    kaggle\t\t      opt\t\t sys\n",
            "boot\t\t\t    lib\t\t\t      proc\t\t tmp\n",
            "content\t\t\t    lib32\t\t      python-apt\t tools\n",
            "cuda-keyring_1.1-1_all.deb  lib64\t\t      python-apt.tar.xz  usr\n",
            "datalab\t\t\t    libx32\t\t      root\t\t var\n",
            "dev\t\t\t    media\t\t      run\n",
            "etc\t\t\t    mnt\t\t\t      sbin\n",
            "home\t\t\t    NGC-DL-CONTAINER-LICENSE  srv\n"
          ]
        }
      ]
    },
    {
      "cell_type": "code",
      "source": [],
      "metadata": {
        "id": "f8sZ2HJTsA-g"
      },
      "execution_count": null,
      "outputs": []
    },
    {
      "cell_type": "markdown",
      "source": [
        "# Pyspark Basic of DataFrame"
      ],
      "metadata": {
        "id": "OaT6V8H8tzC6"
      }
    },
    {
      "cell_type": "code",
      "source": [
        "!pip install pyspark"
      ],
      "metadata": {
        "colab": {
          "base_uri": "https://localhost:8080/"
        },
        "id": "IH3imG1It1pw",
        "outputId": "2108c282-80f4-4d38-8374-416fdaec97e0"
      },
      "execution_count": null,
      "outputs": [
        {
          "output_type": "stream",
          "name": "stdout",
          "text": [
            "Requirement already satisfied: pyspark in /usr/local/lib/python3.11/dist-packages (3.5.1)\n",
            "Requirement already satisfied: py4j==0.10.9.7 in /usr/local/lib/python3.11/dist-packages (from pyspark) (0.10.9.7)\n"
          ]
        }
      ]
    },
    {
      "cell_type": "code",
      "source": [
        "!pip show pyspark"
      ],
      "metadata": {
        "colab": {
          "base_uri": "https://localhost:8080/"
        },
        "id": "RAUi6L5Yt8Tb",
        "outputId": "351f5144-adb0-4be8-9ed7-24a3a8e2e6d8"
      },
      "execution_count": null,
      "outputs": [
        {
          "output_type": "stream",
          "name": "stdout",
          "text": [
            "Name: pyspark\n",
            "Version: 3.5.1\n",
            "Summary: Apache Spark Python API\n",
            "Home-page: https://github.com/apache/spark/tree/master/python\n",
            "Author: Spark Developers\n",
            "Author-email: dev@spark.apache.org\n",
            "License: http://www.apache.org/licenses/LICENSE-2.0\n",
            "Location: /usr/local/lib/python3.11/dist-packages\n",
            "Requires: py4j\n",
            "Required-by: dataproc-spark-connect\n"
          ]
        }
      ]
    },
    {
      "cell_type": "code",
      "source": [
        "from pyspark.sql import SparkSession"
      ],
      "metadata": {
        "id": "4FDtSMonuE4n"
      },
      "execution_count": null,
      "outputs": []
    },
    {
      "cell_type": "code",
      "source": [
        "spark = SparkSession.builder.appName('Basics').getOrCreate()"
      ],
      "metadata": {
        "id": "tPfPFeiLuabN"
      },
      "execution_count": null,
      "outputs": []
    },
    {
      "cell_type": "code",
      "source": [
        "data = [('James','Smith','1991-04-01')]\n",
        "columns = [\"firstname\",\"lastname\",\"date\"]\n",
        "df = spark.createDataFrame(data,columns)\n",
        "df.show()"
      ],
      "metadata": {
        "colab": {
          "base_uri": "https://localhost:8080/"
        },
        "id": "HP0TZoXgu7RE",
        "outputId": "19187308-99ac-4473-b4fc-a2e284a73db5"
      },
      "execution_count": null,
      "outputs": [
        {
          "output_type": "stream",
          "name": "stdout",
          "text": [
            "+---------+--------+----------+\n",
            "|firstname|lastname|      date|\n",
            "+---------+--------+----------+\n",
            "|    James|   Smith|1991-04-01|\n",
            "+---------+--------+----------+\n",
            "\n"
          ]
        }
      ]
    },
    {
      "cell_type": "markdown",
      "source": [
        "# Basic Transformation and Actions"
      ],
      "metadata": {
        "id": "Tly0HHhkwX8_"
      }
    },
    {
      "cell_type": "code",
      "source": [
        "columns=[\"Name\",\"Department\", \"Salary\"]\n",
        "data = [\n",
        "    (\"John\", \"Sales\", 3000),\n",
        "    (\"Jane\", \"Finance\", 4000),\n",
        "    (\"Mike\", \"Sales\", 3500),\n",
        "    (\"Alice\", \"Finance\", 3800),\n",
        "    (\"Bob\", \"IT\", 4500)\n",
        "]"
      ],
      "metadata": {
        "id": "oM7nH1ofvZM8"
      },
      "execution_count": null,
      "outputs": []
    },
    {
      "cell_type": "code",
      "source": [
        "df=spark.createDataFrame(data,columns)\n",
        "df.show()"
      ],
      "metadata": {
        "colab": {
          "base_uri": "https://localhost:8080/"
        },
        "id": "mlYbFFyCwj2O",
        "outputId": "1c3cca99-73ca-4657-d4b1-4ab6d9953db4"
      },
      "execution_count": null,
      "outputs": [
        {
          "output_type": "stream",
          "name": "stdout",
          "text": [
            "+-----+----------+------+\n",
            "| Name|Department|Salary|\n",
            "+-----+----------+------+\n",
            "| John|     Sales|  3000|\n",
            "| Jane|   Finance|  4000|\n",
            "| Mike|     Sales|  3500|\n",
            "|Alice|   Finance|  3800|\n",
            "|  Bob|        IT|  4500|\n",
            "+-----+----------+------+\n",
            "\n"
          ]
        }
      ]
    },
    {
      "cell_type": "code",
      "source": [
        "df_filtered=df.filter(df.Salary > 3500)\n",
        "df_filtered.show()"
      ],
      "metadata": {
        "colab": {
          "base_uri": "https://localhost:8080/"
        },
        "id": "kyCGuZClyPaa",
        "outputId": "a63785fd-ef65-44f1-fb78-dfd4a26922d3"
      },
      "execution_count": null,
      "outputs": [
        {
          "output_type": "stream",
          "name": "stdout",
          "text": [
            "+-----+----------+------+\n",
            "| Name|Department|Salary|\n",
            "+-----+----------+------+\n",
            "| Jane|   Finance|  4000|\n",
            "|Alice|   Finance|  3800|\n",
            "|  Bob|        IT|  4500|\n",
            "+-----+----------+------+\n",
            "\n"
          ]
        }
      ]
    },
    {
      "cell_type": "code",
      "source": [
        "df_grouped=df.groupBy(\"Department\").avg(\"Salary\")\n",
        "df_grouped.show()"
      ],
      "metadata": {
        "colab": {
          "base_uri": "https://localhost:8080/"
        },
        "id": "u6-cdpYeyQBR",
        "outputId": "7391ac1e-819d-40f8-ee92-80a4ba9e8e92"
      },
      "execution_count": null,
      "outputs": [
        {
          "output_type": "stream",
          "name": "stdout",
          "text": [
            "+----------+-----------+\n",
            "|Department|avg(Salary)|\n",
            "+----------+-----------+\n",
            "|     Sales|     3250.0|\n",
            "|   Finance|     3900.0|\n",
            "|        IT|     4500.0|\n",
            "+----------+-----------+\n",
            "\n"
          ]
        }
      ]
    },
    {
      "cell_type": "code",
      "source": [
        "from pyspark.sql.functions import col,upper,lower,concat_ws,length,when\n",
        "exp=col(\"Salary\") *1.1\n",
        "df_with_bonus=df.withColumn(\"Salary_bonus\",exp)\n",
        "df_with_bonus.show()"
      ],
      "metadata": {
        "colab": {
          "base_uri": "https://localhost:8080/"
        },
        "id": "wq5nzSnY0K6S",
        "outputId": "de860685-de11-4bc1-dd3e-4daf5a7ca939"
      },
      "execution_count": null,
      "outputs": [
        {
          "output_type": "stream",
          "name": "stdout",
          "text": [
            "+-----+----------+------+------------------+\n",
            "| Name|Department|Salary|      Salary_bonus|\n",
            "+-----+----------+------+------------------+\n",
            "| John|     Sales|  3000|3300.0000000000005|\n",
            "| Jane|   Finance|  4000|            4400.0|\n",
            "| Mike|     Sales|  3500|3850.0000000000005|\n",
            "|Alice|   Finance|  3800|            4180.0|\n",
            "|  Bob|        IT|  4500|            4950.0|\n",
            "+-----+----------+------+------------------+\n",
            "\n"
          ]
        }
      ]
    },
    {
      "cell_type": "code",
      "source": [
        "df_upper=df.withColumn(\"Name_upper\",upper(col(\"Name\")))\n",
        "df_upper.show()"
      ],
      "metadata": {
        "colab": {
          "base_uri": "https://localhost:8080/"
        },
        "id": "MlSHq33R0cUI",
        "outputId": "583fe18c-22ee-4603-cbdf-4231dffda1ce"
      },
      "execution_count": null,
      "outputs": [
        {
          "output_type": "stream",
          "name": "stdout",
          "text": [
            "+-----+----------+------+----------+\n",
            "| Name|Department|Salary|Name_upper|\n",
            "+-----+----------+------+----------+\n",
            "| John|     Sales|  3000|      JOHN|\n",
            "| Jane|   Finance|  4000|      JANE|\n",
            "| Mike|     Sales|  3500|      MIKE|\n",
            "|Alice|   Finance|  3800|     ALICE|\n",
            "|  Bob|        IT|  4500|       BOB|\n",
            "+-----+----------+------+----------+\n",
            "\n"
          ]
        }
      ]
    },
    {
      "cell_type": "code",
      "source": [
        "df_lower=df.withColumn(\"Name_lower\",lower(col(\"Name\")))\n",
        "df_lower.show()"
      ],
      "metadata": {
        "colab": {
          "base_uri": "https://localhost:8080/"
        },
        "id": "12hNRe-l2cTT",
        "outputId": "37d7dade-cc36-40db-a3ba-8fc51bcb597b"
      },
      "execution_count": null,
      "outputs": [
        {
          "output_type": "stream",
          "name": "stdout",
          "text": [
            "+-----+----------+------+----------+\n",
            "| Name|Department|Salary|Name_lower|\n",
            "+-----+----------+------+----------+\n",
            "| John|     Sales|  3000|      john|\n",
            "| Jane|   Finance|  4000|      jane|\n",
            "| Mike|     Sales|  3500|      mike|\n",
            "|Alice|   Finance|  3800|     alice|\n",
            "|  Bob|        IT|  4500|       bob|\n",
            "+-----+----------+------+----------+\n",
            "\n"
          ]
        }
      ]
    },
    {
      "cell_type": "code",
      "source": [
        "df_concat=df.withColumn(\"Name_Department\",concat_ws(\"_\",col(\"Name\"),col(\"Department\")))\n",
        "df_concat.show()"
      ],
      "metadata": {
        "colab": {
          "base_uri": "https://localhost:8080/"
        },
        "id": "i8lDqO_s2hMi",
        "outputId": "d0be2dbc-c884-45ae-ddce-9fdd6d3bcbd8"
      },
      "execution_count": null,
      "outputs": [
        {
          "output_type": "stream",
          "name": "stdout",
          "text": [
            "+-----+----------+------+---------------+\n",
            "| Name|Department|Salary|Name_Department|\n",
            "+-----+----------+------+---------------+\n",
            "| John|     Sales|  3000|     John_Sales|\n",
            "| Jane|   Finance|  4000|   Jane_Finance|\n",
            "| Mike|     Sales|  3500|     Mike_Sales|\n",
            "|Alice|   Finance|  3800|  Alice_Finance|\n",
            "|  Bob|        IT|  4500|         Bob_IT|\n",
            "+-----+----------+------+---------------+\n",
            "\n"
          ]
        }
      ]
    },
    {
      "cell_type": "code",
      "source": [
        "df_length=df.withColumn(\"Name_length\",length(col(\"Name\")))\n",
        "df_length.show()"
      ],
      "metadata": {
        "colab": {
          "base_uri": "https://localhost:8080/"
        },
        "id": "BIog7SxA3Hqj",
        "outputId": "5bbb5044-6eec-43ef-ebf8-4d44069209bf"
      },
      "execution_count": null,
      "outputs": [
        {
          "output_type": "stream",
          "name": "stdout",
          "text": [
            "+-----+----------+------+-----------+\n",
            "| Name|Department|Salary|Name_length|\n",
            "+-----+----------+------+-----------+\n",
            "| John|     Sales|  3000|          4|\n",
            "| Jane|   Finance|  4000|          4|\n",
            "| Mike|     Sales|  3500|          4|\n",
            "|Alice|   Finance|  3800|          5|\n",
            "|  Bob|        IT|  4500|          3|\n",
            "+-----+----------+------+-----------+\n",
            "\n"
          ]
        }
      ]
    },
    {
      "cell_type": "code",
      "source": [
        "df_conditional=df.withColumn(\"Salary_status\",when(col(\"Salary\") < 3500,\"Low\").when(col(\"Salary\")>= 4000,\"High\").otherwise(\"Medium\"))\n",
        "df_conditional.show()"
      ],
      "metadata": {
        "colab": {
          "base_uri": "https://localhost:8080/"
        },
        "id": "HCLamKrN3jeu",
        "outputId": "1bd196ad-129e-45ee-92e8-e5a87ac037de"
      },
      "execution_count": null,
      "outputs": [
        {
          "output_type": "stream",
          "name": "stdout",
          "text": [
            "+-----+----------+------+-------------+\n",
            "| Name|Department|Salary|Salary_status|\n",
            "+-----+----------+------+-------------+\n",
            "| John|     Sales|  3000|          Low|\n",
            "| Jane|   Finance|  4000|         High|\n",
            "| Mike|     Sales|  3500|       Medium|\n",
            "|Alice|   Finance|  3800|       Medium|\n",
            "|  Bob|        IT|  4500|         High|\n",
            "+-----+----------+------+-------------+\n",
            "\n"
          ]
        }
      ]
    },
    {
      "cell_type": "code",
      "source": [
        "df_renamed=df.withColumnRenamed(\"Salary\",\"Basic_Salary\")\n",
        "df_renamed.show()"
      ],
      "metadata": {
        "colab": {
          "base_uri": "https://localhost:8080/"
        },
        "id": "F9gWqIWW4t8m",
        "outputId": "f211d5c1-c228-484a-84ac-09200fd1014a"
      },
      "execution_count": null,
      "outputs": [
        {
          "output_type": "stream",
          "name": "stdout",
          "text": [
            "+-----+----------+------------+\n",
            "| Name|Department|Basic_Salary|\n",
            "+-----+----------+------------+\n",
            "| John|     Sales|        3000|\n",
            "| Jane|   Finance|        4000|\n",
            "| Mike|     Sales|        3500|\n",
            "|Alice|   Finance|        3800|\n",
            "|  Bob|        IT|        4500|\n",
            "+-----+----------+------------+\n",
            "\n"
          ]
        }
      ]
    },
    {
      "cell_type": "code",
      "source": [],
      "metadata": {
        "id": "zC6bPfMt6Qgl"
      },
      "execution_count": null,
      "outputs": []
    },
    {
      "cell_type": "markdown",
      "source": [
        "# Adavanced Transformation and Actions"
      ],
      "metadata": {
        "id": "NhfZOXDDOhXd"
      }
    },
    {
      "cell_type": "code",
      "source": [
        "df.groupBy(\"Department\").count().show()"
      ],
      "metadata": {
        "colab": {
          "base_uri": "https://localhost:8080/"
        },
        "id": "E-MTXhJnOuD-",
        "outputId": "e949d81d-bc54-4449-c7ff-fc91e257f114"
      },
      "execution_count": null,
      "outputs": [
        {
          "output_type": "stream",
          "name": "stdout",
          "text": [
            "+----------+-----+\n",
            "|Department|count|\n",
            "+----------+-----+\n",
            "|     Sales|    2|\n",
            "|   Finance|    2|\n",
            "|        IT|    1|\n",
            "+----------+-----+\n",
            "\n"
          ]
        }
      ]
    },
    {
      "cell_type": "code",
      "source": [
        "df.groupBy(\"Department\").avg(\"Salary\").show()"
      ],
      "metadata": {
        "colab": {
          "base_uri": "https://localhost:8080/"
        },
        "id": "WVasKMTVO01E",
        "outputId": "b2c9dd4d-a43b-482c-e6da-49d0ff9ec6c2"
      },
      "execution_count": null,
      "outputs": [
        {
          "output_type": "stream",
          "name": "stdout",
          "text": [
            "+----------+-----------+\n",
            "|Department|avg(Salary)|\n",
            "+----------+-----------+\n",
            "|     Sales|     3250.0|\n",
            "|   Finance|     3900.0|\n",
            "|        IT|     4500.0|\n",
            "+----------+-----------+\n",
            "\n"
          ]
        }
      ]
    },
    {
      "cell_type": "code",
      "source": [
        "from pyspark.sql import functions as F\n",
        "df.groupBy(\"Department\").agg(\n",
        "    F.sum(\"Salary\").alias(\"Total_Salary\"),\n",
        "    F.avg(\"Salary\").alias(\"Average_Salary\"),\n",
        "    F.min(\"Salary\").alias(\"Minimum_Salary\"),\n",
        "    F.max(\"Salary\").alias(\"Maximum_Salary\")\n",
        "    ).show()"
      ],
      "metadata": {
        "colab": {
          "base_uri": "https://localhost:8080/"
        },
        "id": "wKNpTNnaO43m",
        "outputId": "14ab10e9-4433-492c-deec-e5f1c0a673d7"
      },
      "execution_count": null,
      "outputs": [
        {
          "output_type": "stream",
          "name": "stdout",
          "text": [
            "+----------+------------+--------------+--------------+--------------+\n",
            "|Department|Total_Salary|Average_Salary|Minimum_Salary|Maximum_Salary|\n",
            "+----------+------------+--------------+--------------+--------------+\n",
            "|     Sales|        6500|        3250.0|          3000|          3500|\n",
            "|   Finance|        7800|        3900.0|          3800|          4000|\n",
            "|        IT|        4500|        4500.0|          4500|          4500|\n",
            "+----------+------------+--------------+--------------+--------------+\n",
            "\n"
          ]
        }
      ]
    },
    {
      "cell_type": "code",
      "source": [
        "# Create another DataFrame for department info\n",
        "dept_data = [\n",
        "    (\"Sales\", \"Building A\"),\n",
        "    (\"Finance\", \"Building B\"),\n",
        "    (\"IT\", \"Building C\")\n",
        "]\n",
        "dept_columns = [\"Department\", \"Location\"]"
      ],
      "metadata": {
        "id": "cgQo-spZPpei"
      },
      "execution_count": null,
      "outputs": []
    },
    {
      "cell_type": "code",
      "source": [
        "dept_df = spark.createDataFrame(dept_data, dept_columns)\n",
        "joined_df = df.join(dept_df, on=\"Department\", how=\"inner\")\n",
        "joined_df.show()\n"
      ],
      "metadata": {
        "colab": {
          "base_uri": "https://localhost:8080/"
        },
        "id": "lvbl62TMRKnC",
        "outputId": "fd709900-3ec9-490a-ec62-dfbbe092d02d"
      },
      "execution_count": null,
      "outputs": [
        {
          "output_type": "stream",
          "name": "stdout",
          "text": [
            "+----------+-----+------+----------+\n",
            "|Department| Name|Salary|  Location|\n",
            "+----------+-----+------+----------+\n",
            "|   Finance| Jane|  4000|Building B|\n",
            "|   Finance|Alice|  3800|Building B|\n",
            "|        IT|  Bob|  4500|Building C|\n",
            "|     Sales| John|  3000|Building A|\n",
            "|     Sales| Mike|  3500|Building A|\n",
            "+----------+-----+------+----------+\n",
            "\n"
          ]
        }
      ]
    },
    {
      "cell_type": "code",
      "source": [
        "left_join=df.join(dept_df,on=\"Department\",how=\"left\")\n",
        "left_join.show()"
      ],
      "metadata": {
        "colab": {
          "base_uri": "https://localhost:8080/"
        },
        "id": "gHm5tLYkSQRF",
        "outputId": "bbddac27-5018-4cf5-8f17-d6c6bee46c85"
      },
      "execution_count": null,
      "outputs": [
        {
          "output_type": "stream",
          "name": "stdout",
          "text": [
            "+----------+-----+------+----------+\n",
            "|Department| Name|Salary|  Location|\n",
            "+----------+-----+------+----------+\n",
            "|     Sales| John|  3000|Building A|\n",
            "|   Finance| Jane|  4000|Building B|\n",
            "|     Sales| Mike|  3500|Building A|\n",
            "|   Finance|Alice|  3800|Building B|\n",
            "|        IT|  Bob|  4500|Building C|\n",
            "+----------+-----+------+----------+\n",
            "\n"
          ]
        }
      ]
    },
    {
      "cell_type": "code",
      "source": [
        "right_join=df.join(dept_df,on=\"Department\",how=\"right\")\n",
        "right_join.show()"
      ],
      "metadata": {
        "colab": {
          "base_uri": "https://localhost:8080/"
        },
        "id": "DRVyORFAUODa",
        "outputId": "175e652e-95a6-4c24-b4cb-aa160d793038"
      },
      "execution_count": null,
      "outputs": [
        {
          "output_type": "stream",
          "name": "stdout",
          "text": [
            "+----------+-----+------+----------+\n",
            "|Department| Name|Salary|  Location|\n",
            "+----------+-----+------+----------+\n",
            "|     Sales| Mike|  3500|Building A|\n",
            "|     Sales| John|  3000|Building A|\n",
            "|   Finance|Alice|  3800|Building B|\n",
            "|   Finance| Jane|  4000|Building B|\n",
            "|        IT|  Bob|  4500|Building C|\n",
            "+----------+-----+------+----------+\n",
            "\n"
          ]
        }
      ]
    },
    {
      "cell_type": "code",
      "source": [
        "# Employee DataFrame\n",
        "emp_data = [\n",
        "    (1, \"John\", \"Sales\", 3000),\n",
        "    (2, \"Jane\", \"Finance\", 4000),\n",
        "    (3, \"Mike\", \"Sales\", 3500),\n",
        "    (4, \"Alice\", \"HR\", 3800),\n",
        "    (5, \"Bob\", \"IT\", 4500),\n",
        "    (6, \"Sam\", \"Support\", 3200)\n",
        "]\n",
        "emp_cols = [\"EmpID\", \"Name\", \"Department\", \"Salary\"]\n",
        "emp_df = spark.createDataFrame(emp_data, emp_cols)\n",
        "\n",
        "# Department DataFrame\n",
        "dept_data = [\n",
        "    (\"Sales\", \"Building A\"),\n",
        "    (\"Finance\", \"Building B\"),\n",
        "    (\"IT\", \"Building C\"),\n",
        "    (\"Admin\", \"Building D\")\n",
        "]\n",
        "dept_cols = [\"Department\", \"Location\"]\n",
        "dept_df = spark.createDataFrame(dept_data, dept_cols)\n",
        "\n",
        "# Display both\n",
        "emp_df.show()\n",
        "dept_df.show()"
      ],
      "metadata": {
        "colab": {
          "base_uri": "https://localhost:8080/"
        },
        "id": "_wBMX58dURZv",
        "outputId": "4a4a6e32-2277-46ab-fa18-4e195d1e1a42"
      },
      "execution_count": null,
      "outputs": [
        {
          "output_type": "stream",
          "name": "stdout",
          "text": [
            "+-----+-----+----------+------+\n",
            "|EmpID| Name|Department|Salary|\n",
            "+-----+-----+----------+------+\n",
            "|    1| John|     Sales|  3000|\n",
            "|    2| Jane|   Finance|  4000|\n",
            "|    3| Mike|     Sales|  3500|\n",
            "|    4|Alice|        HR|  3800|\n",
            "|    5|  Bob|        IT|  4500|\n",
            "|    6|  Sam|   Support|  3200|\n",
            "+-----+-----+----------+------+\n",
            "\n",
            "+----------+----------+\n",
            "|Department|  Location|\n",
            "+----------+----------+\n",
            "|     Sales|Building A|\n",
            "|   Finance|Building B|\n",
            "|        IT|Building C|\n",
            "|     Admin|Building D|\n",
            "+----------+----------+\n",
            "\n"
          ]
        }
      ]
    },
    {
      "cell_type": "code",
      "source": [
        "inner_join=emp_df.join(dept_df,on=\"Department\",how=\"inner\")\n",
        "inner_join.show()"
      ],
      "metadata": {
        "colab": {
          "base_uri": "https://localhost:8080/"
        },
        "id": "Q1auRjhUVKJu",
        "outputId": "569714d0-b7a7-4418-dbf1-c868f15ff6f9"
      },
      "execution_count": null,
      "outputs": [
        {
          "output_type": "stream",
          "name": "stdout",
          "text": [
            "+----------+-----+----+------+----------+\n",
            "|Department|EmpID|Name|Salary|  Location|\n",
            "+----------+-----+----+------+----------+\n",
            "|   Finance|    2|Jane|  4000|Building B|\n",
            "|        IT|    5| Bob|  4500|Building C|\n",
            "|     Sales|    1|John|  3000|Building A|\n",
            "|     Sales|    3|Mike|  3500|Building A|\n",
            "+----------+-----+----+------+----------+\n",
            "\n"
          ]
        }
      ]
    },
    {
      "cell_type": "code",
      "source": [
        "left_join=emp_df.join(dept_df,on=\"Department\",how=\"left\")\n",
        "left_join.show()"
      ],
      "metadata": {
        "colab": {
          "base_uri": "https://localhost:8080/"
        },
        "id": "Rj4SWpfDVO8U",
        "outputId": "64b8c9ee-ea02-4766-8d8b-3276b92cc6b4"
      },
      "execution_count": null,
      "outputs": [
        {
          "output_type": "stream",
          "name": "stdout",
          "text": [
            "+----------+-----+-----+------+----------+\n",
            "|Department|EmpID| Name|Salary|  Location|\n",
            "+----------+-----+-----+------+----------+\n",
            "|     Sales|    1| John|  3000|Building A|\n",
            "|     Sales|    3| Mike|  3500|Building A|\n",
            "|   Finance|    2| Jane|  4000|Building B|\n",
            "|        HR|    4|Alice|  3800|      NULL|\n",
            "|        IT|    5|  Bob|  4500|Building C|\n",
            "|   Support|    6|  Sam|  3200|      NULL|\n",
            "+----------+-----+-----+------+----------+\n",
            "\n"
          ]
        }
      ]
    },
    {
      "cell_type": "code",
      "source": [
        "right_join=emp_df.join(dept_df,on=\"Department\",how=\"right\")\n",
        "right_join.show()"
      ],
      "metadata": {
        "colab": {
          "base_uri": "https://localhost:8080/"
        },
        "id": "FePA1EWCVRAv",
        "outputId": "3afcf606-f524-43e6-ddc6-fdc616123719"
      },
      "execution_count": null,
      "outputs": [
        {
          "output_type": "stream",
          "name": "stdout",
          "text": [
            "+----------+-----+----+------+----------+\n",
            "|Department|EmpID|Name|Salary|  Location|\n",
            "+----------+-----+----+------+----------+\n",
            "|     Sales|    3|Mike|  3500|Building A|\n",
            "|     Sales|    1|John|  3000|Building A|\n",
            "|   Finance|    2|Jane|  4000|Building B|\n",
            "|     Admin| NULL|NULL|  NULL|Building D|\n",
            "|        IT|    5| Bob|  4500|Building C|\n",
            "+----------+-----+----+------+----------+\n",
            "\n"
          ]
        }
      ]
    },
    {
      "cell_type": "code",
      "source": [
        "emp_df.join(dept_df,on=\"Department\",how=\"full\").show()"
      ],
      "metadata": {
        "colab": {
          "base_uri": "https://localhost:8080/"
        },
        "id": "M3rHwCcWVTxq",
        "outputId": "0ad07953-e1c7-408e-ed39-2394315d428e"
      },
      "execution_count": null,
      "outputs": [
        {
          "output_type": "stream",
          "name": "stdout",
          "text": [
            "+----------+-----+-----+------+----------+\n",
            "|Department|EmpID| Name|Salary|  Location|\n",
            "+----------+-----+-----+------+----------+\n",
            "|     Admin| NULL| NULL|  NULL|Building D|\n",
            "|   Finance|    2| Jane|  4000|Building B|\n",
            "|        HR|    4|Alice|  3800|      NULL|\n",
            "|        IT|    5|  Bob|  4500|Building C|\n",
            "|     Sales|    1| John|  3000|Building A|\n",
            "|     Sales|    3| Mike|  3500|Building A|\n",
            "|   Support|    6|  Sam|  3200|      NULL|\n",
            "+----------+-----+-----+------+----------+\n",
            "\n"
          ]
        }
      ]
    },
    {
      "cell_type": "code",
      "source": [
        "from pyspark.sql import SparkSession\n",
        "from pyspark.sql.functions import col, sum, avg, month"
      ],
      "metadata": {
        "id": "3REvvEclWERB"
      },
      "execution_count": null,
      "outputs": []
    },
    {
      "cell_type": "code",
      "source": [
        "spark = SparkSession.builder.appName(\"SalesAnalysis\").getOrCreate()"
      ],
      "metadata": {
        "id": "51tjUWv7X3sl"
      },
      "execution_count": null,
      "outputs": []
    },
    {
      "cell_type": "code",
      "source": [
        "sales_data = [\n",
        "    (1001, 101, 501, \"2025-07-10 08:23:00\", 3, 25.5),\n",
        "    (1002, 102, 502, \"2025-07-11 09:45:00\", 2, 15.0),\n",
        "    (1003, 103, 503, \"2025-07-12 10:15:00\", 1, 30.0),\n",
        "    (1004, 101, 504, \"2025-07-13 12:20:00\", 5, 25.5),\n",
        "    (1005, 105, 505, \"2025-07-14 14:35:00\", 10, 45.0),\n",
        "    (1006, 102, 506, \"2025-07-15 16:00:00\", 4, 15.0)\n",
        "]\n",
        "sales_columns = [\"sale_id\", \"product_id\", \"customer_id\", \"sale_date\", \"quantity\", \"price\"]\n",
        "sales_df = spark.createDataFrame(sales_data, sales_columns)\n",
        "\n"
      ],
      "metadata": {
        "id": "emJmcEapX6MO"
      },
      "execution_count": null,
      "outputs": []
    },
    {
      "cell_type": "code",
      "source": [
        "# Product Dataset\n",
        "product_data = [\n",
        "    (101, \"Widget A\", \"Gadgets\"),\n",
        "    (102, \"Widget B\", \"Gadgets\"),\n",
        "    (103, \"Widget C\", \"Electronics\"),\n",
        "    (104, \"Widget D\", \"Electronics\"),\n",
        "    (105, \"Widget E\", \"Home & Living\")\n",
        "]\n",
        "product_columns = [\"product_id\", \"product_name\", \"category\"]\n",
        "product_df = spark.createDataFrame(product_data, product_columns)"
      ],
      "metadata": {
        "id": "4fDtJIIbX9X3"
      },
      "execution_count": null,
      "outputs": []
    },
    {
      "cell_type": "code",
      "source": [
        "customer_data = [\n",
        "    (501, \"Alice\", \"alice@example.com\", \"2025-05-20 10:10:00\"),\n",
        "    (502, \"Bob\", \"bob@example.com\", \"2025-06-15 14:00:00\"),\n",
        "    (503, \"Charlie\", \"charlie@example.com\", \"2025-04-05 09:50:00\"),\n",
        "    (504, \"David\", \"david@example.com\", \"2025-07-01 12:25:00\"),\n",
        "    (505, \"Emma\", \"emma@example.com\", \"2025-07-10 15:30:00\"),\n",
        "    (506, \"Frank\", \"frank@example.com\", \"2025-03-23 17:00:00\")\n",
        "]\n",
        "customer_columns = [\"customer_id\", \"customer_name\", \"email\", \"join_date\"]\n",
        "customer_df = spark.createDataFrame(customer_data, customer_columns)"
      ],
      "metadata": {
        "id": "3sFjszimX_WJ"
      },
      "execution_count": null,
      "outputs": []
    },
    {
      "cell_type": "code",
      "source": [
        "total_revenue_per_product = sales_df.withColumn(\"revenue\", col(\"quantity\") * col(\"price\")) \\\n",
        "    .groupBy(\"product_id\") \\\n",
        "    .agg(sum(\"revenue\").alias(\"total_revenue\"))\n",
        "\n",
        "total_revenue_per_product.show()"
      ],
      "metadata": {
        "colab": {
          "base_uri": "https://localhost:8080/"
        },
        "id": "VcG5NipXYAjR",
        "outputId": "ce246eae-c361-47e0-a7ef-17781ac50817"
      },
      "execution_count": null,
      "outputs": [
        {
          "output_type": "stream",
          "name": "stdout",
          "text": [
            "+----------+-------------+\n",
            "|product_id|total_revenue|\n",
            "+----------+-------------+\n",
            "|       103|         30.0|\n",
            "|       101|        204.0|\n",
            "|       102|         90.0|\n",
            "|       105|        450.0|\n",
            "+----------+-------------+\n",
            "\n"
          ]
        }
      ]
    },
    {
      "cell_type": "code",
      "metadata": {
        "colab": {
          "base_uri": "https://localhost:8080/"
        },
        "id": "8b25457c",
        "outputId": "1bc111fc-d1a9-4ab7-8e00-1f44f640e27e"
      },
      "source": [
        "total_quantity_per_customer = sales_df.groupBy(\"customer_id\") \\\n",
        "    .agg(sum(\"quantity\").alias(\"total_quantity\"))\n",
        "\n",
        "total_quantity_per_customer.show()"
      ],
      "execution_count": null,
      "outputs": [
        {
          "output_type": "stream",
          "name": "stdout",
          "text": [
            "+-----------+--------------+\n",
            "|customer_id|total_quantity|\n",
            "+-----------+--------------+\n",
            "|        502|             2|\n",
            "|        501|             3|\n",
            "|        503|             1|\n",
            "|        504|             5|\n",
            "|        506|             4|\n",
            "|        505|            10|\n",
            "+-----------+--------------+\n",
            "\n"
          ]
        }
      ]
    },
    {
      "cell_type": "code",
      "metadata": {
        "colab": {
          "base_uri": "https://localhost:8080/"
        },
        "id": "d871f270",
        "outputId": "7f959ce6-f05a-4149-8e94-d60b27a99af9"
      },
      "source": [
        "average_revenue_per_customer = sales_df.withColumn(\"revenue\", col(\"quantity\") * col(\"price\")) \\\n",
        "    .groupBy(\"customer_id\") \\\n",
        "    .agg(avg(\"revenue\").alias(\"average_revenue\"))\n",
        "\n",
        "average_revenue_per_customer.show()"
      ],
      "execution_count": null,
      "outputs": [
        {
          "output_type": "stream",
          "name": "stdout",
          "text": [
            "+-----------+---------------+\n",
            "|customer_id|average_revenue|\n",
            "+-----------+---------------+\n",
            "|        502|           30.0|\n",
            "|        501|           76.5|\n",
            "|        503|           30.0|\n",
            "|        504|          127.5|\n",
            "|        506|           60.0|\n",
            "|        505|          450.0|\n",
            "+-----------+---------------+\n",
            "\n"
          ]
        }
      ]
    },
    {
      "cell_type": "code",
      "metadata": {
        "colab": {
          "base_uri": "https://localhost:8080/"
        },
        "id": "c6466469",
        "outputId": "f100dc41-4ce6-478f-9da2-e56e665c85e2"
      },
      "source": [
        "monthly_sales_total = sales_df.withColumn(\"month\", month(col(\"sale_date\"))) \\\n",
        "    .withColumn(\"revenue\", col(\"quantity\") * col(\"price\")) \\\n",
        "    .groupBy(\"month\") \\\n",
        "    .agg(sum(\"revenue\").alias(\"total_monthly_revenue\"))\n",
        "\n",
        "monthly_sales_total.show()"
      ],
      "execution_count": null,
      "outputs": [
        {
          "output_type": "stream",
          "name": "stdout",
          "text": [
            "+-----+---------------------+\n",
            "|month|total_monthly_revenue|\n",
            "+-----+---------------------+\n",
            "|    7|                774.0|\n",
            "+-----+---------------------+\n",
            "\n"
          ]
        }
      ]
    },
    {
      "cell_type": "code",
      "metadata": {
        "colab": {
          "base_uri": "https://localhost:8080/"
        },
        "id": "9f460592",
        "outputId": "30cbe2f5-3cc5-463c-e8e4-c5c6bb8d00c9"
      },
      "source": [
        "sales_with_category = sales_df.join(product_df, \"product_id\")\n",
        "sales_per_category = sales_with_category.groupBy(\"category\") \\\n",
        "    .count() \\\n",
        "    .withColumnRenamed(\"count\", \"total_sales\")\n",
        "\n",
        "sales_per_category.show()"
      ],
      "execution_count": null,
      "outputs": [
        {
          "output_type": "stream",
          "name": "stdout",
          "text": [
            "+-------------+-----------+\n",
            "|     category|total_sales|\n",
            "+-------------+-----------+\n",
            "|  Electronics|          1|\n",
            "|      Gadgets|          4|\n",
            "|Home & Living|          1|\n",
            "+-------------+-----------+\n",
            "\n"
          ]
        }
      ]
    },
    {
      "cell_type": "code",
      "metadata": {
        "colab": {
          "base_uri": "https://localhost:8080/"
        },
        "id": "cc5064e8",
        "outputId": "0d209641-61e4-44fe-8784-b27e00802fe8"
      },
      "source": [
        "from pyspark.sql.functions import desc\n",
        "\n",
        "top_3_products = sales_df.withColumn(\"revenue\", col(\"quantity\") * col(\"price\")) \\\n",
        "    .groupBy(\"product_id\") \\\n",
        "    .agg(sum(\"revenue\").alias(\"total_revenue\")) \\\n",
        "    .orderBy(desc(\"total_revenue\")) \\\n",
        "    .limit(3)\n",
        "\n",
        "top_3_products.show()"
      ],
      "execution_count": null,
      "outputs": [
        {
          "output_type": "stream",
          "name": "stdout",
          "text": [
            "+----------+-------------+\n",
            "|product_id|total_revenue|\n",
            "+----------+-------------+\n",
            "|       105|        450.0|\n",
            "|       101|        204.0|\n",
            "|       102|         90.0|\n",
            "+----------+-------------+\n",
            "\n"
          ]
        }
      ]
    },
    {
      "cell_type": "code",
      "metadata": {
        "colab": {
          "base_uri": "https://localhost:8080/"
        },
        "id": "282b7554",
        "outputId": "b383e977-1ee3-4282-8c9d-a0a5da3fe47e"
      },
      "source": [
        "sales_with_product_info = sales_df.join(product_df, \"product_id\")\n",
        "sales_with_product_info.show()"
      ],
      "execution_count": null,
      "outputs": [
        {
          "output_type": "stream",
          "name": "stdout",
          "text": [
            "+----------+-------+-----------+-------------------+--------+-----+------------+-------------+\n",
            "|product_id|sale_id|customer_id|          sale_date|quantity|price|product_name|     category|\n",
            "+----------+-------+-----------+-------------------+--------+-----+------------+-------------+\n",
            "|       101|   1001|        501|2025-07-10 08:23:00|       3| 25.5|    Widget A|      Gadgets|\n",
            "|       101|   1004|        504|2025-07-13 12:20:00|       5| 25.5|    Widget A|      Gadgets|\n",
            "|       102|   1002|        502|2025-07-11 09:45:00|       2| 15.0|    Widget B|      Gadgets|\n",
            "|       102|   1006|        506|2025-07-15 16:00:00|       4| 15.0|    Widget B|      Gadgets|\n",
            "|       103|   1003|        503|2025-07-12 10:15:00|       1| 30.0|    Widget C|  Electronics|\n",
            "|       105|   1005|        505|2025-07-14 14:35:00|      10| 45.0|    Widget E|Home & Living|\n",
            "+----------+-------+-----------+-------------------+--------+-----+------------+-------------+\n",
            "\n"
          ]
        }
      ]
    },
    {
      "cell_type": "code",
      "metadata": {
        "colab": {
          "base_uri": "https://localhost:8080/"
        },
        "id": "d90b33a2",
        "outputId": "040917da-54dd-4d5c-d144-1f697f79e702"
      },
      "source": [
        "sales_with_customer_info = sales_df.join(customer_df, \"customer_id\")\n",
        "sales_with_customer_info.show()"
      ],
      "execution_count": null,
      "outputs": [
        {
          "output_type": "stream",
          "name": "stdout",
          "text": [
            "+-----------+-------+----------+-------------------+--------+-----+-------------+-------------------+-------------------+\n",
            "|customer_id|sale_id|product_id|          sale_date|quantity|price|customer_name|              email|          join_date|\n",
            "+-----------+-------+----------+-------------------+--------+-----+-------------+-------------------+-------------------+\n",
            "|        501|   1001|       101|2025-07-10 08:23:00|       3| 25.5|        Alice|  alice@example.com|2025-05-20 10:10:00|\n",
            "|        502|   1002|       102|2025-07-11 09:45:00|       2| 15.0|          Bob|    bob@example.com|2025-06-15 14:00:00|\n",
            "|        503|   1003|       103|2025-07-12 10:15:00|       1| 30.0|      Charlie|charlie@example.com|2025-04-05 09:50:00|\n",
            "|        504|   1004|       101|2025-07-13 12:20:00|       5| 25.5|        David|  david@example.com|2025-07-01 12:25:00|\n",
            "|        505|   1005|       105|2025-07-14 14:35:00|      10| 45.0|         Emma|   emma@example.com|2025-07-10 15:30:00|\n",
            "|        506|   1006|       102|2025-07-15 16:00:00|       4| 15.0|        Frank|  frank@example.com|2025-03-23 17:00:00|\n",
            "+-----------+-------+----------+-------------------+--------+-----+-------------+-------------------+-------------------+\n",
            "\n"
          ]
        }
      ]
    },
    {
      "cell_type": "code",
      "metadata": {
        "colab": {
          "base_uri": "https://localhost:8080/"
        },
        "id": "89569fe8",
        "outputId": "8fd644de-7648-40fa-dd1d-43bedbc3bd1c"
      },
      "source": [
        "inner_join_gadgets = sales_df.join(product_df, \"product_id\", \"inner\") \\\n",
        "    .filter(product_df.category == \"Gadgets\")\n",
        "\n",
        "inner_join_gadgets.show()"
      ],
      "execution_count": null,
      "outputs": [
        {
          "output_type": "stream",
          "name": "stdout",
          "text": [
            "+----------+-------+-----------+-------------------+--------+-----+------------+--------+\n",
            "|product_id|sale_id|customer_id|          sale_date|quantity|price|product_name|category|\n",
            "+----------+-------+-----------+-------------------+--------+-----+------------+--------+\n",
            "|       101|   1001|        501|2025-07-10 08:23:00|       3| 25.5|    Widget A| Gadgets|\n",
            "|       101|   1004|        504|2025-07-13 12:20:00|       5| 25.5|    Widget A| Gadgets|\n",
            "|       102|   1002|        502|2025-07-11 09:45:00|       2| 15.0|    Widget B| Gadgets|\n",
            "|       102|   1006|        506|2025-07-15 16:00:00|       4| 15.0|    Widget B| Gadgets|\n",
            "+----------+-------+-----------+-------------------+--------+-----+------------+--------+\n",
            "\n"
          ]
        }
      ]
    },
    {
      "cell_type": "code",
      "metadata": {
        "colab": {
          "base_uri": "https://localhost:8080/"
        },
        "id": "32654c19",
        "outputId": "19856540-9919-4260-f7fb-7fbfe02fdb91"
      },
      "source": [
        "left_join_sales_product = sales_df.join(product_df, \"product_id\", \"left\")\n",
        "left_join_sales_product.show()"
      ],
      "execution_count": null,
      "outputs": [
        {
          "output_type": "stream",
          "name": "stdout",
          "text": [
            "+----------+-------+-----------+-------------------+--------+-----+------------+-------------+\n",
            "|product_id|sale_id|customer_id|          sale_date|quantity|price|product_name|     category|\n",
            "+----------+-------+-----------+-------------------+--------+-----+------------+-------------+\n",
            "|       103|   1003|        503|2025-07-12 10:15:00|       1| 30.0|    Widget C|  Electronics|\n",
            "|       101|   1001|        501|2025-07-10 08:23:00|       3| 25.5|    Widget A|      Gadgets|\n",
            "|       102|   1002|        502|2025-07-11 09:45:00|       2| 15.0|    Widget B|      Gadgets|\n",
            "|       105|   1005|        505|2025-07-14 14:35:00|      10| 45.0|    Widget E|Home & Living|\n",
            "|       101|   1004|        504|2025-07-13 12:20:00|       5| 25.5|    Widget A|      Gadgets|\n",
            "|       102|   1006|        506|2025-07-15 16:00:00|       4| 15.0|    Widget B|      Gadgets|\n",
            "+----------+-------+-----------+-------------------+--------+-----+------------+-------------+\n",
            "\n"
          ]
        }
      ]
    },
    {
      "cell_type": "code",
      "metadata": {
        "colab": {
          "base_uri": "https://localhost:8080/"
        },
        "id": "4926e621",
        "outputId": "58095b23-4af2-4672-dd3b-da6971343739"
      },
      "source": [
        "from pyspark.sql.functions import col\n",
        "\n",
        "sales_alias1 = sales_df.alias(\"s1\")\n",
        "sales_alias2 = sales_df.alias(\"s2\")\n",
        "\n",
        "self_join_df = sales_alias1.join(sales_alias2, col(\"s1.product_id\") == col(\"s2.product_id\")) \\\n",
        "    .filter(col(\"s1.sale_id\") < col(\"s2.sale_id\"))\n",
        "\n",
        "self_join_df.select(\"s1.product_id\", \"s1.sale_date\", \"s2.sale_date\").show()"
      ],
      "execution_count": null,
      "outputs": [
        {
          "output_type": "stream",
          "name": "stdout",
          "text": [
            "+----------+-------------------+-------------------+\n",
            "|product_id|          sale_date|          sale_date|\n",
            "+----------+-------------------+-------------------+\n",
            "|       101|2025-07-10 08:23:00|2025-07-13 12:20:00|\n",
            "|       102|2025-07-11 09:45:00|2025-07-15 16:00:00|\n",
            "+----------+-------------------+-------------------+\n",
            "\n"
          ]
        }
      ]
    },
    {
      "cell_type": "code",
      "metadata": {
        "colab": {
          "base_uri": "https://localhost:8080/"
        },
        "id": "92c78573",
        "outputId": "c3d86a29-22f5-4b43-8e2d-258d341d61f6"
      },
      "source": [
        "full_outer_join_sales_product = sales_df.join(product_df, \"product_id\", \"full\")\n",
        "full_outer_join_sales_product.show()"
      ],
      "execution_count": null,
      "outputs": [
        {
          "output_type": "stream",
          "name": "stdout",
          "text": [
            "+----------+-------+-----------+-------------------+--------+-----+------------+-------------+\n",
            "|product_id|sale_id|customer_id|          sale_date|quantity|price|product_name|     category|\n",
            "+----------+-------+-----------+-------------------+--------+-----+------------+-------------+\n",
            "|       101|   1001|        501|2025-07-10 08:23:00|       3| 25.5|    Widget A|      Gadgets|\n",
            "|       101|   1004|        504|2025-07-13 12:20:00|       5| 25.5|    Widget A|      Gadgets|\n",
            "|       102|   1002|        502|2025-07-11 09:45:00|       2| 15.0|    Widget B|      Gadgets|\n",
            "|       102|   1006|        506|2025-07-15 16:00:00|       4| 15.0|    Widget B|      Gadgets|\n",
            "|       103|   1003|        503|2025-07-12 10:15:00|       1| 30.0|    Widget C|  Electronics|\n",
            "|       104|   NULL|       NULL|               NULL|    NULL| NULL|    Widget D|  Electronics|\n",
            "|       105|   1005|        505|2025-07-14 14:35:00|      10| 45.0|    Widget E|Home & Living|\n",
            "+----------+-------+-----------+-------------------+--------+-----+------------+-------------+\n",
            "\n"
          ]
        }
      ]
    },
    {
      "cell_type": "code",
      "metadata": {
        "colab": {
          "base_uri": "https://localhost:8080/"
        },
        "id": "310fec62",
        "outputId": "fc4f932b-8413-4cf5-dde5-3c3d23a1bf7b"
      },
      "source": [
        "complete_df = sales_df.join(product_df, \"product_id\") \\\n",
        "    .join(customer_df, \"customer_id\")\n",
        "\n",
        "complete_df.show()"
      ],
      "execution_count": null,
      "outputs": [
        {
          "output_type": "stream",
          "name": "stdout",
          "text": [
            "+-----------+----------+-------+-------------------+--------+-----+------------+-------------+-------------+-------------------+-------------------+\n",
            "|customer_id|product_id|sale_id|          sale_date|quantity|price|product_name|     category|customer_name|              email|          join_date|\n",
            "+-----------+----------+-------+-------------------+--------+-----+------------+-------------+-------------+-------------------+-------------------+\n",
            "|        502|       102|   1002|2025-07-11 09:45:00|       2| 15.0|    Widget B|      Gadgets|          Bob|    bob@example.com|2025-06-15 14:00:00|\n",
            "|        501|       101|   1001|2025-07-10 08:23:00|       3| 25.5|    Widget A|      Gadgets|        Alice|  alice@example.com|2025-05-20 10:10:00|\n",
            "|        503|       103|   1003|2025-07-12 10:15:00|       1| 30.0|    Widget C|  Electronics|      Charlie|charlie@example.com|2025-04-05 09:50:00|\n",
            "|        504|       101|   1004|2025-07-13 12:20:00|       5| 25.5|    Widget A|      Gadgets|        David|  david@example.com|2025-07-01 12:25:00|\n",
            "|        506|       102|   1006|2025-07-15 16:00:00|       4| 15.0|    Widget B|      Gadgets|        Frank|  frank@example.com|2025-03-23 17:00:00|\n",
            "|        505|       105|   1005|2025-07-14 14:35:00|      10| 45.0|    Widget E|Home & Living|         Emma|   emma@example.com|2025-07-10 15:30:00|\n",
            "+-----------+----------+-------+-------------------+--------+-----+------------+-------------+-------------+-------------------+-------------------+\n",
            "\n"
          ]
        }
      ]
    },
    {
      "cell_type": "code",
      "metadata": {
        "colab": {
          "base_uri": "https://localhost:8080/"
        },
        "id": "bad6ff22",
        "outputId": "7c628d9b-965d-4f12-bf03-d1a949313418"
      },
      "source": [
        "from pyspark.sql.functions import col\n",
        "\n",
        "filtered_sales_df = sales_df.filter(col(\"sale_date\").between(\"2025-07-10\", \"2025-07-15\"))\n",
        "filtered_sales_df.show()"
      ],
      "execution_count": null,
      "outputs": [
        {
          "output_type": "stream",
          "name": "stdout",
          "text": [
            "+-------+----------+-----------+-------------------+--------+-----+\n",
            "|sale_id|product_id|customer_id|          sale_date|quantity|price|\n",
            "+-------+----------+-----------+-------------------+--------+-----+\n",
            "|   1001|       101|        501|2025-07-10 08:23:00|       3| 25.5|\n",
            "|   1002|       102|        502|2025-07-11 09:45:00|       2| 15.0|\n",
            "|   1003|       103|        503|2025-07-12 10:15:00|       1| 30.0|\n",
            "|   1004|       101|        504|2025-07-13 12:20:00|       5| 25.5|\n",
            "|   1005|       105|        505|2025-07-14 14:35:00|      10| 45.0|\n",
            "+-------+----------+-----------+-------------------+--------+-----+\n",
            "\n"
          ]
        }
      ]
    },
    {
      "cell_type": "code",
      "metadata": {
        "colab": {
          "base_uri": "https://localhost:8080/"
        },
        "id": "f0080d2c",
        "outputId": "8e1f26b5-bb75-4e06-f27a-ba4eb4959ca3"
      },
      "source": [
        "from pyspark.sql.functions import desc\n",
        "\n",
        "top_5_customers = sales_df.withColumn(\"total_spend\", col(\"quantity\") * col(\"price\")) \\\n",
        "    .join(customer_df, \"customer_id\") \\\n",
        "    .groupBy(\"customer_id\", \"customer_name\") \\\n",
        "    .agg(sum(\"total_spend\").alias(\"total_spending\")) \\\n",
        "    .orderBy(desc(\"total_spending\")) \\\n",
        "    .limit(5)\n",
        "\n",
        "top_5_customers.show()"
      ],
      "execution_count": null,
      "outputs": [
        {
          "output_type": "stream",
          "name": "stdout",
          "text": [
            "+-----------+-------------+--------------+\n",
            "|customer_id|customer_name|total_spending|\n",
            "+-----------+-------------+--------------+\n",
            "|        505|         Emma|         450.0|\n",
            "|        504|        David|         127.5|\n",
            "|        501|        Alice|          76.5|\n",
            "|        506|        Frank|          60.0|\n",
            "|        502|          Bob|          30.0|\n",
            "+-----------+-------------+--------------+\n",
            "\n"
          ]
        }
      ]
    },
    {
      "cell_type": "code",
      "metadata": {
        "colab": {
          "base_uri": "https://localhost:8080/"
        },
        "id": "bb29dbbc",
        "outputId": "f8521368-314a-42f8-862f-8d23c80064df"
      },
      "source": [
        "from pyspark.sql.functions import when\n",
        "\n",
        "customer_spending = sales_df.withColumn(\"total_spend\", col(\"quantity\") * col(\"price\")) \\\n",
        "    .join(customer_df, \"customer_id\") \\\n",
        "    .groupBy(\"customer_id\", \"customer_name\") \\\n",
        "    .agg(sum(\"total_spend\").alias(\"total_spending\"))\n",
        "\n",
        "categorized_customers = customer_spending.withColumn(\"spending_category\",\n",
        "    when(col(\"total_spending\") < 100, \"Low\")\n",
        "    .when((col(\"total_spending\") >= 100) & (col(\"total_spending\") <= 300), \"Medium\")\n",
        "    .otherwise(\"High\")\n",
        ")\n",
        "\n",
        "categorized_customers.show()"
      ],
      "execution_count": null,
      "outputs": [
        {
          "output_type": "stream",
          "name": "stdout",
          "text": [
            "+-----------+-------------+--------------+-----------------+\n",
            "|customer_id|customer_name|total_spending|spending_category|\n",
            "+-----------+-------------+--------------+-----------------+\n",
            "|        501|        Alice|          76.5|              Low|\n",
            "|        502|          Bob|          30.0|              Low|\n",
            "|        503|      Charlie|          30.0|              Low|\n",
            "|        504|        David|         127.5|           Medium|\n",
            "|        505|         Emma|         450.0|             High|\n",
            "|        506|        Frank|          60.0|              Low|\n",
            "+-----------+-------------+--------------+-----------------+\n",
            "\n"
          ]
        }
      ]
    },
    {
      "cell_type": "code",
      "metadata": {
        "colab": {
          "base_uri": "https://localhost:8080/"
        },
        "id": "2c7822c8",
        "outputId": "3d6483b3-04a2-4ef7-8c8e-f150ce3eab3c"
      },
      "source": [
        "from pyspark.sql.functions import min, max\n",
        "\n",
        "customer_purchase_dates = sales_df.groupBy(\"customer_id\") \\\n",
        "    .agg(\n",
        "        min(\"sale_date\").alias(\"first_purchase_date\"),\n",
        "        max(\"sale_date\").alias(\"last_purchase_date\")\n",
        "    )\n",
        "\n",
        "customer_purchase_dates_with_names = customer_purchase_dates.join(customer_df, \"customer_id\") \\\n",
        "    .select(\"customer_id\", \"customer_name\", \"first_purchase_date\", \"last_purchase_date\")\n",
        "\n",
        "customer_purchase_dates_with_names.show()"
      ],
      "execution_count": null,
      "outputs": [
        {
          "output_type": "stream",
          "name": "stdout",
          "text": [
            "+-----------+-------------+-------------------+-------------------+\n",
            "|customer_id|customer_name|first_purchase_date| last_purchase_date|\n",
            "+-----------+-------------+-------------------+-------------------+\n",
            "|        502|          Bob|2025-07-11 09:45:00|2025-07-11 09:45:00|\n",
            "|        501|        Alice|2025-07-10 08:23:00|2025-07-10 08:23:00|\n",
            "|        503|      Charlie|2025-07-12 10:15:00|2025-07-12 10:15:00|\n",
            "|        504|        David|2025-07-13 12:20:00|2025-07-13 12:20:00|\n",
            "|        506|        Frank|2025-07-15 16:00:00|2025-07-15 16:00:00|\n",
            "|        505|         Emma|2025-07-14 14:35:00|2025-07-14 14:35:00|\n",
            "+-----------+-------------+-------------------+-------------------+\n",
            "\n"
          ]
        }
      ]
    },
    {
      "cell_type": "code",
      "metadata": {
        "colab": {
          "base_uri": "https://localhost:8080/"
        },
        "id": "08d5f931",
        "outputId": "7fdf2236-ac01-4d4e-95b6-dc29181af653"
      },
      "source": [
        "from pyspark.sql.functions import max as max_\n",
        "\n",
        "# Find the most recent sale date in the entire dataset\n",
        "most_recent_date = sales_df.select(max_(\"sale_date\")).first()[0]\n",
        "print(f\"Most recent sale date: {most_recent_date}\")\n",
        "\n",
        "from pyspark.sql.functions import to_date, lit, datediff\n",
        "\n",
        "# Calculate the date 30 days before the most recent date\n",
        "thirty_days_before = sales_df.withColumn(\"date\", to_date(lit(most_recent_date))) \\\n",
        "    .selectExpr(\"date_sub(date, 30) as cutoff_date\").first().cutoff_date\n",
        "\n",
        "print(f\"30-day cutoff date: {thirty_days_before}\")\n",
        "\n",
        "# Find the last purchase date for each customer\n",
        "customer_last_purchase = sales_df.groupBy(\"customer_id\") \\\n",
        "    .agg(max_(\"sale_date\").alias(\"last_purchase_date\"))\n",
        "\n",
        "# Find customers whose last purchase was before the 30-day cutoff\n",
        "churned_customers = customer_last_purchase.filter(col(\"last_purchase_date\") < lit(thirty_days_before))\n",
        "\n",
        "churned_customers_with_names = churned_customers.join(customer_df, \"customer_id\") \\\n",
        "    .select(\"customer_id\", \"customer_name\", \"last_purchase_date\")\n",
        "\n",
        "churned_customers_with_names.show()"
      ],
      "execution_count": null,
      "outputs": [
        {
          "output_type": "stream",
          "name": "stdout",
          "text": [
            "Most recent sale date: 2025-07-15 16:00:00\n",
            "30-day cutoff date: 2025-06-15\n",
            "+-----------+-------------+------------------+\n",
            "|customer_id|customer_name|last_purchase_date|\n",
            "+-----------+-------------+------------------+\n",
            "+-----------+-------------+------------------+\n",
            "\n"
          ]
        }
      ]
    },
    {
      "cell_type": "code",
      "source": [],
      "metadata": {
        "id": "J8AzX_NFZb2W"
      },
      "execution_count": null,
      "outputs": []
    },
    {
      "cell_type": "markdown",
      "source": [
        "# Adv. PySpark (Window Functions)"
      ],
      "metadata": {
        "id": "LijIMS89aoWI"
      }
    },
    {
      "cell_type": "code",
      "source": [],
      "metadata": {
        "id": "xNfv4jmXau-8"
      },
      "execution_count": null,
      "outputs": []
    }
  ]
}